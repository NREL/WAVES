{
 "cells": [
  {
   "cell_type": "code",
   "execution_count": 6,
   "id": "f7e1a138-83ca-4d5c-8fe3-311f3178afa5",
   "metadata": {},
   "outputs": [
    {
     "name": "stdout",
     "output_type": "stream",
     "text": [
      "Conversion complete. New CSV saved with latitude and longitude.\n"
     ]
    }
   ],
   "source": [
    "import pandas as pd\n",
    "from geopy.distance import geodesic\n",
    "\n",
    "# Load turbine positions from CSV\n",
    "df = pd.read_csv(\"base_floating_deep_layout.csv\")  # Ensure the CSV has 'x', 'y', and a column indicating the reference point\n",
    "\n",
    "# Define the reference point (latitude, longitude) and its corresponding (x, y) in meters\n",
    "reference_lat = 40.9319  # Replace with actual latitude\n",
    "reference_lon = -124.6145  # Replace with actual longitude\n",
    "reference_x = df.loc[df['type'] == \"substation\", 'floris_x'].values[0]  # Assuming column 'is_reference' marks the reference\n",
    "reference_y = df.loc[df['type'] == \"substation\", 'floris_y'].values[0]\n",
    "\n",
    "# Function to convert (x, y) offset to (lat, lon)\n",
    "def convert_to_latlon(row):\n",
    "    dx = row['floris_x'] - reference_x  # Difference in x\n",
    "    dy = row['floris_y'] - reference_y  # Difference in y\n",
    "\n",
    "    # Compute new lat/lon using geopy's geodesic method\n",
    "    new_lat = geodesic(meters=dy).destination((reference_lat, reference_lon), bearing=0)[0]\n",
    "    new_lon = geodesic(meters=dx).destination((new_lat, reference_lon), bearing=90)[1]\n",
    "    \n",
    "    return pd.Series({'latitude_2': new_lat, 'longitude_2': new_lon})\n",
    "\n",
    "# Apply conversion\n",
    "df[['latitude_2', 'longitude_2']] = df.apply(convert_to_latlon, axis=1)\n",
    "\n",
    "# Save new data\n",
    "df.to_csv(\"turbine_positions_with_latlon.csv\", index=False)\n",
    "\n",
    "print(\"Conversion complete. New CSV saved with latitude and longitude.\")\n"
   ]
  },
  {
   "cell_type": "code",
   "execution_count": 2,
   "id": "3b4197b9-d571-4d42-bc23-e4f2a8c1a002",
   "metadata": {},
   "outputs": [
    {
     "name": "stdout",
     "output_type": "stream",
     "text": [
      "Collecting geopy\n",
      "  Using cached geopy-2.4.1-py3-none-any.whl.metadata (6.8 kB)\n",
      "Collecting geographiclib<3,>=1.52 (from geopy)\n",
      "  Using cached geographiclib-2.0-py3-none-any.whl.metadata (1.4 kB)\n",
      "Using cached geopy-2.4.1-py3-none-any.whl (125 kB)\n",
      "Using cached geographiclib-2.0-py3-none-any.whl (40 kB)\n",
      "Installing collected packages: geographiclib, geopy\n",
      "Successfully installed geographiclib-2.0 geopy-2.4.1\n",
      "Note: you may need to restart the kernel to use updated packages.\n"
     ]
    }
   ],
   "source": [
    "pip install geopy"
   ]
  },
  {
   "cell_type": "code",
   "execution_count": null,
   "id": "aec0bf0f-7c8b-4516-acd6-6b323bb3d021",
   "metadata": {},
   "outputs": [],
   "source": []
  }
 ],
 "metadata": {
  "kernelspec": {
   "display_name": "Python 3 (ipykernel)",
   "language": "python",
   "name": "python3"
  },
  "language_info": {
   "codemirror_mode": {
    "name": "ipython",
    "version": 3
   },
   "file_extension": ".py",
   "mimetype": "text/x-python",
   "name": "python",
   "nbconvert_exporter": "python",
   "pygments_lexer": "ipython3",
   "version": "3.10.16"
  }
 },
 "nbformat": 4,
 "nbformat_minor": 5
}
